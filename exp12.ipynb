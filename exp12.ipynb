{
 "cells": [
  {
   "cell_type": "code",
   "execution_count": 8,
   "id": "9695046c-1c7e-4fc0-aa56-57bdc9ade0e5",
   "metadata": {},
   "outputs": [],
   "source": [
    "string='212221240048 Sanjay Kumar'\n",
    "class NodeTree(object):\n",
    "    def __init__(self,left=None,right=None):\n",
    "        self.left=left\n",
    "        self.right=right\n",
    "    def children(self):\n",
    "        return (self.left,self.right)"
   ]
  },
  {
   "cell_type": "code",
   "execution_count": 9,
   "id": "6b93ba0e-e260-473b-a886-b743249a351f",
   "metadata": {},
   "outputs": [],
   "source": [
    "freq={}\n",
    "for c in string:\n",
    "    if c in freq:\n",
    "        freq[c]+=1\n",
    "    else:\n",
    "        freq[c]=1\n",
    "freq=sorted(freq.items(),key=lambda x: x[1],reverse=True)\n",
    "nodes=freq"
   ]
  },
  {
   "cell_type": "code",
   "execution_count": 10,
   "id": "76b978e7-667b-4035-9411-0fa6e0ac0791",
   "metadata": {},
   "outputs": [],
   "source": [
    "while len(nodes)>1:\n",
    "    (key1,c1)=nodes[-1]\n",
    "    (key2,c2)=nodes[-2]\n",
    "    nodes = nodes[:-2]\n",
    "    node = NodeTree (key1, key2)\n",
    "    nodes.append((node,c1 + c2))\n",
    "    nodes = sorted (nodes, key=lambda x: x[1], reverse=True)"
   ]
  },
  {
   "cell_type": "code",
   "execution_count": 11,
   "id": "66af31ae-d49f-42e9-bb82-5b1f30eb31b9",
   "metadata": {},
   "outputs": [],
   "source": [
    "def huffman_code_tree(node,left=True,binString=''):\n",
    "    if type(node) is str:\n",
    "        return {node: binString}\n",
    "    (l,r)=node.children()\n",
    "    d=dict()\n",
    "    d.update(huffman_code_tree(l,True,binString+'0'))\n",
    "    d.update(huffman_code_tree(r,False,binString+'1'))\n",
    "    return d"
   ]
  },
  {
   "cell_type": "code",
   "execution_count": 12,
   "id": "19db9b54-b917-451a-bb7f-80745d674632",
   "metadata": {},
   "outputs": [
    {
     "name": "stdout",
     "output_type": "stream",
     "text": [
      " Char | Huffman code \n",
      "----------------------\n",
      "'2' |          01\n",
      "'a' |         100\n",
      "'1' |         000\n",
      "'4' |        1011\n",
      "'0' |        1010\n",
      "' ' |        1101\n",
      "'8' |        0010\n",
      "'S' |       00111\n",
      "'n' |       00110\n",
      "'j' |       11101\n",
      "'y' |       11100\n",
      "'K' |       11111\n",
      "'u' |       11110\n",
      "'m' |       11001\n",
      "'r' |       11000\n"
     ]
    }
   ],
   "source": [
    "huffmanCode=huffman_code_tree(nodes[0][0])\n",
    "print(' Char | Huffman code ') \n",
    "print('----------------------')\n",
    "for (char, frequency) in freq:\n",
    "    print('%-4r|%12s'%(char,huffmanCode[char]))"
   ]
  },
  {
   "cell_type": "code",
   "execution_count": null,
   "id": "4bf8a909-6e6c-468d-8e59-f34ad3a739a9",
   "metadata": {},
   "outputs": [],
   "source": []
  }
 ],
 "metadata": {
  "kernelspec": {
   "display_name": "Python 3 (ipykernel)",
   "language": "python",
   "name": "python3"
  },
  "language_info": {
   "codemirror_mode": {
    "name": "ipython",
    "version": 3
   },
   "file_extension": ".py",
   "mimetype": "text/x-python",
   "name": "python",
   "nbconvert_exporter": "python",
   "pygments_lexer": "ipython3",
   "version": "3.9.13"
  }
 },
 "nbformat": 4,
 "nbformat_minor": 5
}
